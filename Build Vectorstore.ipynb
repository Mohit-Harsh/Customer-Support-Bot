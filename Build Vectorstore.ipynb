{
 "cells": [
  {
   "cell_type": "code",
   "execution_count": 1,
   "metadata": {},
   "outputs": [],
   "source": [
    "from langchain.schema import Document\n",
    "import pandas as pd\n",
    "import numpy as np\n",
    "from langchain.retrievers import BM25Retriever\n",
    "from langchain.vectorstores import FAISS\n",
    "from langchain.embeddings import HuggingFaceEmbeddings\n",
    "from transformers import AutoModel"
   ]
  },
  {
   "cell_type": "code",
   "execution_count": 2,
   "metadata": {},
   "outputs": [],
   "source": [
    "embeddings = HuggingFaceEmbeddings(model_name=\"sentence-transformers/all-mpnet-base-v2\")"
   ]
  },
  {
   "cell_type": "code",
   "execution_count": 3,
   "metadata": {},
   "outputs": [
    {
     "data": {
      "text/html": [
       "<div>\n",
       "<style scoped>\n",
       "    .dataframe tbody tr th:only-of-type {\n",
       "        vertical-align: middle;\n",
       "    }\n",
       "\n",
       "    .dataframe tbody tr th {\n",
       "        vertical-align: top;\n",
       "    }\n",
       "\n",
       "    .dataframe thead th {\n",
       "        text-align: right;\n",
       "    }\n",
       "</style>\n",
       "<table border=\"1\" class=\"dataframe\">\n",
       "  <thead>\n",
       "    <tr style=\"text-align: right;\">\n",
       "      <th></th>\n",
       "      <th>category</th>\n",
       "      <th>query</th>\n",
       "      <th>solution</th>\n",
       "    </tr>\n",
       "  </thead>\n",
       "  <tbody>\n",
       "    <tr>\n",
       "      <th>0</th>\n",
       "      <td>How to Book</td>\n",
       "      <td>How can I book a flight with Air India?</td>\n",
       "      <td>Booking a flight with Air India is a breeze, a...</td>\n",
       "    </tr>\n",
       "    <tr>\n",
       "      <th>1</th>\n",
       "      <td>How to Book</td>\n",
       "      <td>What are the steps to book an Air India flight...</td>\n",
       "      <td>Booking an Air India flight is quite easy, whe...</td>\n",
       "    </tr>\n",
       "    <tr>\n",
       "      <th>2</th>\n",
       "      <td>How to Book</td>\n",
       "      <td>Can I book a trip with multiple destinations?</td>\n",
       "      <td>Absolutely, you can book a trip with multiple ...</td>\n",
       "    </tr>\n",
       "    <tr>\n",
       "      <th>3</th>\n",
       "      <td>How to Book</td>\n",
       "      <td>Is there a time limit for booking tickets online?</td>\n",
       "      <td>You can take advantage of online booking for o...</td>\n",
       "    </tr>\n",
       "    <tr>\n",
       "      <th>4</th>\n",
       "      <td>Passenger Detail</td>\n",
       "      <td>How many passengers can I add in a single book...</td>\n",
       "      <td>When booking a flight with us, you can add up ...</td>\n",
       "    </tr>\n",
       "  </tbody>\n",
       "</table>\n",
       "</div>"
      ],
      "text/plain": [
       "           category                                              query  \\\n",
       "0       How to Book            How can I book a flight with Air India?   \n",
       "1       How to Book  What are the steps to book an Air India flight...   \n",
       "2       How to Book      Can I book a trip with multiple destinations?   \n",
       "3       How to Book  Is there a time limit for booking tickets online?   \n",
       "4  Passenger Detail  How many passengers can I add in a single book...   \n",
       "\n",
       "                                            solution  \n",
       "0  Booking a flight with Air India is a breeze, a...  \n",
       "1  Booking an Air India flight is quite easy, whe...  \n",
       "2  Absolutely, you can book a trip with multiple ...  \n",
       "3  You can take advantage of online booking for o...  \n",
       "4  When booking a flight with us, you can add up ...  "
      ]
     },
     "execution_count": 3,
     "metadata": {},
     "output_type": "execute_result"
    }
   ],
   "source": [
    "df = pd.read_csv('data/fulldata.csv')\n",
    "df.head()"
   ]
  },
  {
   "cell_type": "code",
   "execution_count": 4,
   "metadata": {},
   "outputs": [
    {
     "name": "stdout",
     "output_type": "stream",
     "text": [
      "<class 'pandas.core.frame.DataFrame'>\n",
      "RangeIndex: 175 entries, 0 to 174\n",
      "Data columns (total 3 columns):\n",
      " #   Column    Non-Null Count  Dtype \n",
      "---  ------    --------------  ----- \n",
      " 0   category  175 non-null    object\n",
      " 1   query     175 non-null    object\n",
      " 2   solution  175 non-null    object\n",
      "dtypes: object(3)\n",
      "memory usage: 4.2+ KB\n"
     ]
    }
   ],
   "source": [
    "df.drop_duplicates(inplace=True,subset=['query'])\n",
    "df.dropna(inplace=True)\n",
    "df.reset_index(inplace=True,drop=['index'])\n",
    "df.info()"
   ]
  },
  {
   "cell_type": "code",
   "execution_count": 5,
   "metadata": {},
   "outputs": [
    {
     "data": {
      "text/html": [
       "<div>\n",
       "<style scoped>\n",
       "    .dataframe tbody tr th:only-of-type {\n",
       "        vertical-align: middle;\n",
       "    }\n",
       "\n",
       "    .dataframe tbody tr th {\n",
       "        vertical-align: top;\n",
       "    }\n",
       "\n",
       "    .dataframe thead th {\n",
       "        text-align: right;\n",
       "    }\n",
       "</style>\n",
       "<table border=\"1\" class=\"dataframe\">\n",
       "  <thead>\n",
       "    <tr style=\"text-align: right;\">\n",
       "      <th></th>\n",
       "      <th>category</th>\n",
       "      <th>query</th>\n",
       "      <th>solution</th>\n",
       "    </tr>\n",
       "  </thead>\n",
       "  <tbody>\n",
       "    <tr>\n",
       "      <th>0</th>\n",
       "      <td>How to Book</td>\n",
       "      <td>How can I book a flight with Air India?</td>\n",
       "      <td>Booking a flight with Air India is a breeze, a...</td>\n",
       "    </tr>\n",
       "    <tr>\n",
       "      <th>1</th>\n",
       "      <td>How to Book</td>\n",
       "      <td>What are the steps to book an Air India flight...</td>\n",
       "      <td>Booking an Air India flight is quite easy, whe...</td>\n",
       "    </tr>\n",
       "    <tr>\n",
       "      <th>2</th>\n",
       "      <td>How to Book</td>\n",
       "      <td>Can I book a trip with multiple destinations?</td>\n",
       "      <td>Absolutely, you can book a trip with multiple ...</td>\n",
       "    </tr>\n",
       "    <tr>\n",
       "      <th>3</th>\n",
       "      <td>How to Book</td>\n",
       "      <td>Is there a time limit for booking tickets online?</td>\n",
       "      <td>You can take advantage of online booking for o...</td>\n",
       "    </tr>\n",
       "    <tr>\n",
       "      <th>4</th>\n",
       "      <td>Passenger Detail</td>\n",
       "      <td>How many passengers can I add in a single book...</td>\n",
       "      <td>When booking a flight with us, you can add up ...</td>\n",
       "    </tr>\n",
       "  </tbody>\n",
       "</table>\n",
       "</div>"
      ],
      "text/plain": [
       "           category                                              query  \\\n",
       "0       How to Book            How can I book a flight with Air India?   \n",
       "1       How to Book  What are the steps to book an Air India flight...   \n",
       "2       How to Book      Can I book a trip with multiple destinations?   \n",
       "3       How to Book  Is there a time limit for booking tickets online?   \n",
       "4  Passenger Detail  How many passengers can I add in a single book...   \n",
       "\n",
       "                                            solution  \n",
       "0  Booking a flight with Air India is a breeze, a...  \n",
       "1  Booking an Air India flight is quite easy, whe...  \n",
       "2  Absolutely, you can book a trip with multiple ...  \n",
       "3  You can take advantage of online booking for o...  \n",
       "4  When booking a flight with us, you can add up ...  "
      ]
     },
     "execution_count": 5,
     "metadata": {},
     "output_type": "execute_result"
    }
   ],
   "source": [
    "df.head()"
   ]
  },
  {
   "cell_type": "code",
   "execution_count": 6,
   "metadata": {},
   "outputs": [],
   "source": [
    "doc_list = []\n",
    "for i in range(len(df)):\n",
    "\n",
    "    id = i\n",
    "    q = df.iloc[i]['query']\n",
    "    s = df.iloc[i]['solution']\n",
    "    doc = Document(page_content=s,metadata={'id':i,'question':q})\n",
    "    doc_list.append(doc)"
   ]
  },
  {
   "cell_type": "code",
   "execution_count": 7,
   "metadata": {},
   "outputs": [
    {
     "data": {
      "text/plain": [
       "Document(page_content='If you do not have a surname or last name, enter your single name in the ‘Last Name’ and ‘First Name’ fields.\\n\\nExample:\\xa0If your name is\\xa0John, type\\xa0John\\xa0in both fields, so it appears on your ticket as John/John.\\n\\nCountry-specific rules for single names\\n\\nThe US and Canada:\\xa0If you have a single name (for example, John), please enter your ‘Last Name’ as\\xa0John\\xa0and ‘First Name’ as\\xa0FNU\\xa0to read as John/FNU.\\n\\nAustralia:\\xa0If you have a single name (for example, Gayatri), please enter your ‘Last Name’ as\\xa0Gayatri\\xa0and ‘First Name’ as\\xa0Unknown\\xa0so it appears on your ticket as Gayatri/Unknown.\\n\\nThe UAE:\\xa0If you have a single name (for example, Sunil), please enter your ‘First Name’ and ‘Last Name’ as\\xa0Sunil\\xa0so it appears on your ticket as Sunil/Sunil.', metadata={'id': 5, 'question': \"How should I enter my name if I don't have a surname?\"})"
      ]
     },
     "execution_count": 7,
     "metadata": {},
     "output_type": "execute_result"
    }
   ],
   "source": [
    "doc_list[5]"
   ]
  },
  {
   "cell_type": "code",
   "execution_count": 8,
   "metadata": {},
   "outputs": [],
   "source": [
    "docstore = FAISS.from_documents(doc_list, embedding=embeddings)"
   ]
  },
  {
   "cell_type": "code",
   "execution_count": 9,
   "metadata": {},
   "outputs": [],
   "source": [
    "docstore.save_local('solutions')"
   ]
  },
  {
   "cell_type": "code",
   "execution_count": null,
   "metadata": {},
   "outputs": [],
   "source": []
  }
 ],
 "metadata": {
  "kernelspec": {
   "display_name": "Python 3 (ipykernel)",
   "language": "python",
   "name": "python3"
  },
  "language_info": {
   "codemirror_mode": {
    "name": "ipython",
    "version": 3
   },
   "file_extension": ".py",
   "mimetype": "text/x-python",
   "name": "python",
   "nbconvert_exporter": "python",
   "pygments_lexer": "ipython3",
   "version": "3.9.18"
  }
 },
 "nbformat": 4,
 "nbformat_minor": 4
}
