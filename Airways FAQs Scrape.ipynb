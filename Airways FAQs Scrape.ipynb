{
 "cells": [
  {
   "cell_type": "code",
   "execution_count": 16,
   "id": "fe7a0d77-182c-41a2-8b4a-0cf03920ddc6",
   "metadata": {},
   "outputs": [],
   "source": [
    "import pandas as pd\n",
    "import numpy as np\n",
    "from selenium import webdriver\n",
    "from time import sleep\n",
    "import os\n",
    "from http.server import BaseHTTPRequestHandler\n",
    "from selenium import webdriver\n",
    "from selenium.webdriver.chrome.options import Options\n",
    "from selenium.webdriver.chrome.service import Service\n",
    "from selenium.webdriver.common.by import By\n",
    "import requests\n",
    "from selenium.webdriver.chrome.options import Options\n",
    "from selenium.webdriver.chrome.service import Service\n",
    "from selenium.webdriver.common.by import By\n",
    "from bs4 import BeautifulSoup"
   ]
  },
  {
   "cell_type": "code",
   "execution_count": 25,
   "id": "27b67722-f2f0-4b74-a9af-f313bd19d3d2",
   "metadata": {},
   "outputs": [],
   "source": [
    "service = Service('./chromedriver.exe')\n",
    "options = webdriver.ChromeOptions()\n",
    "options.add_argument('--headless')\n",
    "browser = webdriver.Chrome(service=Service(),options=options)"
   ]
  },
  {
   "cell_type": "code",
   "execution_count": 26,
   "id": "a0cf1ad7",
   "metadata": {},
   "outputs": [],
   "source": [
    "urls = [\n",
    "    'https://www.airindia.com/in/en/frequently-asked-questions/booking.html',\n",
    "    'https://airindia.com/in/en/frequently-asked-questions/check-in.html',\n",
    "    'https://www.airindia.com/in/en/frequently-asked-questions/baggage.html',\n",
    "    'https://www.airindia.com/in/en/frequently-asked-questions/self-service-reaccommodation.html',\n",
    "    'https://www.airindia.com/in/en/flying-returns/faqs.html',\n",
    "    'https://www.airindia.com/in/en/book/travel-insurance.html',\n",
    "    'https://www.airindia.com/in/en/frequently-asked-questions/cargo.html',\n",
    "    'https://www.airindia.com/in/en/frequently-asked-questions/health-and-medical-assistance.html',\n",
    "    'https://www.airindia.com/in/en/frequently-asked-questions/travelling-with-infants-and-children.html'\n",
    "]"
   ]
  },
  {
   "cell_type": "code",
   "execution_count": 27,
   "id": "7ff1f009",
   "metadata": {},
   "outputs": [],
   "source": [
    "df = pd.DataFrame(columns=['category','query','solution'])"
   ]
  },
  {
   "cell_type": "code",
   "execution_count": 58,
   "id": "20a1335b",
   "metadata": {},
   "outputs": [],
   "source": [
    "browser.get(urls[0])\n",
    "browser.execute_script(\"return document.getElementsByTagName('html')[0].innerHTML\")\n",
    "sleep(1)\n",
    "\n",
    "soup = BeautifulSoup(browser.page_source,'html.parser')\n",
    "\n",
    "category = soup.find('div',{'id':'abc'}).find_all('section')[1:]\n",
    "\n",
    "\n",
    "for cat in category:\n",
    "\n",
    "    subcat = cat.find_all('div')\n",
    "\n",
    "    for sub in subcat:\n",
    "\n",
    "        query_list = sub.find_all('div',{'class':'accordion-item'})\n",
    "\n",
    "        for query in query_list:\n",
    "\n",
    "            s = [cat.find('h2').text.strip()]\n",
    "            q = query.find('h2').text.strip()\n",
    "            a = \"\\n\\n\".join([x.text for x in query.find('div',{'class':'accordion-body'}).find_all('p')])\n",
    "\n",
    "            row = {'category':s,'query':q,'solution':a}\n",
    "\n",
    "            temp = pd.DataFrame(row,columns=['category','query','solution'])\n",
    "\n",
    "            df = pd.concat([df,temp],axis=0)"
   ]
  },
  {
   "cell_type": "code",
   "execution_count": 59,
   "id": "7b4cfe9e-deab-484f-923f-c0efc6e8a04e",
   "metadata": {},
   "outputs": [
    {
     "name": "stdout",
     "output_type": "stream",
     "text": [
      "<class 'pandas.core.frame.DataFrame'>\n",
      "Index: 185 entries, 0 to 0\n",
      "Data columns (total 3 columns):\n",
      " #   Column    Non-Null Count  Dtype \n",
      "---  ------    --------------  ----- \n",
      " 0   category  185 non-null    object\n",
      " 1   query     185 non-null    object\n",
      " 2   solution  185 non-null    object\n",
      "dtypes: object(3)\n",
      "memory usage: 5.8+ KB\n"
     ]
    }
   ],
   "source": [
    "df.info()"
   ]
  },
  {
   "cell_type": "code",
   "execution_count": 60,
   "id": "ecf96c88",
   "metadata": {},
   "outputs": [
    {
     "name": "stdout",
     "output_type": "stream",
     "text": [
      "<class 'pandas.core.frame.DataFrame'>\n",
      "RangeIndex: 179 entries, 0 to 178\n",
      "Data columns (total 3 columns):\n",
      " #   Column    Non-Null Count  Dtype \n",
      "---  ------    --------------  ----- \n",
      " 0   category  179 non-null    object\n",
      " 1   query     179 non-null    object\n",
      " 2   solution  179 non-null    object\n",
      "dtypes: object(3)\n",
      "memory usage: 4.3+ KB\n"
     ]
    }
   ],
   "source": [
    "df.drop_duplicates(inplace=True)\n",
    "df.reset_index(inplace=True,drop=['index'])\n",
    "df.info()"
   ]
  },
  {
   "cell_type": "code",
   "execution_count": 61,
   "id": "8cdf2b69-c76b-4c71-901d-742d11764706",
   "metadata": {},
   "outputs": [
    {
     "data": {
      "text/html": [
       "<div>\n",
       "<style scoped>\n",
       "    .dataframe tbody tr th:only-of-type {\n",
       "        vertical-align: middle;\n",
       "    }\n",
       "\n",
       "    .dataframe tbody tr th {\n",
       "        vertical-align: top;\n",
       "    }\n",
       "\n",
       "    .dataframe thead th {\n",
       "        text-align: right;\n",
       "    }\n",
       "</style>\n",
       "<table border=\"1\" class=\"dataframe\">\n",
       "  <thead>\n",
       "    <tr style=\"text-align: right;\">\n",
       "      <th></th>\n",
       "      <th>category</th>\n",
       "      <th>query</th>\n",
       "      <th>solution</th>\n",
       "    </tr>\n",
       "  </thead>\n",
       "  <tbody>\n",
       "    <tr>\n",
       "      <th>107</th>\n",
       "      <td>Family Pool</td>\n",
       "      <td>Can a pramukh of one family pool be a sub-memb...</td>\n",
       "      <td>No, a pramukh of one family pool cannot be a s...</td>\n",
       "    </tr>\n",
       "    <tr>\n",
       "      <th>79</th>\n",
       "      <td>Maharaja Club</td>\n",
       "      <td>Do I have to fill out any forms to become the ...</td>\n",
       "      <td>No, once you qualify to be a member of theMaha...</td>\n",
       "    </tr>\n",
       "    <tr>\n",
       "      <th>43</th>\n",
       "      <td>Baggage Policy for Infants/Children</td>\n",
       "      <td>Is there any baggage allowance for infants tra...</td>\n",
       "      <td>We have a fixed baggage allowance of 10kg/22lb...</td>\n",
       "    </tr>\n",
       "    <tr>\n",
       "      <th>25</th>\n",
       "      <td>Airport check-in</td>\n",
       "      <td>When does the check-in counter at the airport ...</td>\n",
       "      <td>This may vary depending upon the airport of de...</td>\n",
       "    </tr>\n",
       "    <tr>\n",
       "      <th>175</th>\n",
       "      <td>Infant</td>\n",
       "      <td>What documents do I need to carry when travell...</td>\n",
       "      <td>If you are travelling with your baby who is ov...</td>\n",
       "    </tr>\n",
       "  </tbody>\n",
       "</table>\n",
       "</div>"
      ],
      "text/plain": [
       "                                category  \\\n",
       "107                          Family Pool   \n",
       "79                         Maharaja Club   \n",
       "43   Baggage Policy for Infants/Children   \n",
       "25                      Airport check-in   \n",
       "175                               Infant   \n",
       "\n",
       "                                                 query  \\\n",
       "107  Can a pramukh of one family pool be a sub-memb...   \n",
       "79   Do I have to fill out any forms to become the ...   \n",
       "43   Is there any baggage allowance for infants tra...   \n",
       "25   When does the check-in counter at the airport ...   \n",
       "175  What documents do I need to carry when travell...   \n",
       "\n",
       "                                              solution  \n",
       "107  No, a pramukh of one family pool cannot be a s...  \n",
       "79   No, once you qualify to be a member of theMaha...  \n",
       "43   We have a fixed baggage allowance of 10kg/22lb...  \n",
       "25   This may vary depending upon the airport of de...  \n",
       "175  If you are travelling with your baby who is ov...  "
      ]
     },
     "execution_count": 61,
     "metadata": {},
     "output_type": "execute_result"
    }
   ],
   "source": [
    "df.sample(5)"
   ]
  },
  {
   "cell_type": "code",
   "execution_count": 62,
   "id": "66a5f503",
   "metadata": {},
   "outputs": [],
   "source": [
    "df.to_json(\"data/fulldata.json\")\n",
    "df.to_csv('data/fulldata.csv')"
   ]
  }
 ],
 "metadata": {
  "kernelspec": {
   "display_name": "Python 3 (ipykernel)",
   "language": "python",
   "name": "python3"
  },
  "language_info": {
   "codemirror_mode": {
    "name": "ipython",
    "version": 3
   },
   "file_extension": ".py",
   "mimetype": "text/x-python",
   "name": "python",
   "nbconvert_exporter": "python",
   "pygments_lexer": "ipython3",
   "version": "3.9.18"
  }
 },
 "nbformat": 4,
 "nbformat_minor": 5
}
